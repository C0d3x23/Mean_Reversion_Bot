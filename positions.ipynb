{
 "cells": [
  {
   "cell_type": "code",
   "execution_count": 4,
   "metadata": {},
   "outputs": [
    {
     "name": "stdout",
     "output_type": "stream",
     "text": [
      "                                                info    id         symbol   \n",
      "0  {'symbol': 'ETHUSDT', 'positionAmt': '0.119', ...  None  ETH/USDT:USDT  \\\n",
      "\n",
      "   contracts  contractSize  unrealizedPnl  leverage  liquidationPrice   \n",
      "0      0.119           1.0       -0.22096       5.0        1534.36991  \\\n",
      "\n",
      "   collateral   notional   markPrice  entryPrice      timestamp   \n",
      "0   45.596271  227.05238  1908.00319     1909.86  1687537919074  \\\n",
      "\n",
      "   initialMargin  initialMarginPercentage  maintenanceMargin   \n",
      "0      45.410476                      0.2           1.135262  \\\n",
      "\n",
      "   maintenanceMarginPercentage  marginRatio                  datetime   \n",
      "0                        0.005       0.0249  2023-06-23T16:31:59.074Z  \\\n",
      "\n",
      "  marginMode marginType  side  hedged  percentage  Active  \n",
      "0      cross      cross  long   False       -0.48    True  \n",
      "True\n",
      "                                                info    id         symbol   \n",
      "0  {'symbol': 'ETHUSDT', 'positionAmt': '0.119', ...  None  ETH/USDT:USDT  \\\n",
      "\n",
      "   contracts  contractSize  unrealizedPnl  leverage  liquidationPrice   \n",
      "0      0.119           1.0       -0.28459       5.0        1534.36991  \\\n",
      "\n",
      "   collateral   notional    markPrice  entryPrice      timestamp   \n",
      "0   45.596271  226.98875  1907.468484     1909.86  1687537919074  \\\n",
      "\n",
      "   initialMargin  initialMarginPercentage  maintenanceMargin   \n",
      "0       45.39775                      0.2           1.134944  \\\n",
      "\n",
      "   maintenanceMarginPercentage  marginRatio                  datetime   \n",
      "0                        0.005       0.0249  2023-06-23T16:31:59.074Z  \\\n",
      "\n",
      "  marginMode marginType  side  hedged  percentage  Active  \n",
      "0      cross      cross  long   False       -0.62    True  \n",
      "True\n"
     ]
    },
    {
     "ename": "KeyboardInterrupt",
     "evalue": "",
     "output_type": "error",
     "traceback": [
      "\u001b[1;31m---------------------------------------------------------------------------\u001b[0m",
      "\u001b[1;31mKeyboardInterrupt\u001b[0m                         Traceback (most recent call last)",
      "Cell \u001b[1;32mIn[4], line 33\u001b[0m\n\u001b[0;32m     29\u001b[0m         \u001b[39mprint\u001b[39m(in_position)\n\u001b[0;32m     31\u001b[0m     time\u001b[39m.\u001b[39msleep(\u001b[39m1\u001b[39m)\n\u001b[1;32m---> 33\u001b[0m calculatePositions()\n",
      "Cell \u001b[1;32mIn[4], line 31\u001b[0m, in \u001b[0;36mcalculatePositions\u001b[1;34m()\u001b[0m\n\u001b[0;32m     28\u001b[0m     in_position \u001b[39m=\u001b[39m \u001b[39mTrue\u001b[39;00m\n\u001b[0;32m     29\u001b[0m     \u001b[39mprint\u001b[39m(in_position)\n\u001b[1;32m---> 31\u001b[0m time\u001b[39m.\u001b[39;49msleep(\u001b[39m1\u001b[39;49m)\n",
      "\u001b[1;31mKeyboardInterrupt\u001b[0m: "
     ]
    }
   ],
   "source": [
    "import ccxt\n",
    "import credentials\n",
    "import pandas as pd\n",
    "import time\n",
    "\n",
    "pd.set_option('display.max_rows', None)  # Set max_rows to None to display all rows\n",
    "pd.set_option('display.max_columns', None)  # Set max_columns to None to display all columns\n",
    "\n",
    "exchange = ccxt.binanceusdm({\n",
    "    'enableRateLimit': True,\n",
    "    'apiKey': credentials.api_key,\n",
    "    'secret': credentials.api_secret\n",
    "})\n",
    "\n",
    "in_position = False\n",
    "\n",
    "while True:\n",
    "        \n",
    "    def calculatePositions():\n",
    "        global in_position\n",
    "\n",
    "        pos = pd.DataFrame(exchange.fetchPositions(symbols=['ETH/USDT']))\n",
    "        pos['Active'] = pos['entryPrice'] > 0\n",
    "        active_count = (pos['Active'] == True).sum()\n",
    "        print(pos)\n",
    "        open_positions = active_count == 1\n",
    "        if open_positions:\n",
    "            in_position = True\n",
    "        else:\n",
    "            pass\n",
    "\n",
    "        time.sleep(1)\n",
    "\n",
    "    calculatePositions()"
   ]
  }
 ],
 "metadata": {
  "kernelspec": {
   "display_name": "Python 3",
   "language": "python",
   "name": "python3"
  },
  "language_info": {
   "codemirror_mode": {
    "name": "ipython",
    "version": 3
   },
   "file_extension": ".py",
   "mimetype": "text/x-python",
   "name": "python",
   "nbconvert_exporter": "python",
   "pygments_lexer": "ipython3",
   "version": "3.10.11"
  },
  "orig_nbformat": 4
 },
 "nbformat": 4,
 "nbformat_minor": 2
}
