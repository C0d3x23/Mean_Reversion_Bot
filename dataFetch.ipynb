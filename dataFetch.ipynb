{
 "cells": [
  {
   "cell_type": "code",
   "execution_count": 15,
   "metadata": {},
   "outputs": [
    {
     "name": "stdout",
     "output_type": "stream",
     "text": [
      "   Timestamp     Open     High      Low    Close\n",
      "0 2023-06-20  1734.74  1800.00  1720.00  1790.63\n",
      "1 2023-06-21  1791.29  1899.99  1780.00  1860.91\n",
      "2 2023-06-22  1860.90  1885.00  1857.48  1860.00\n",
      "3 2023-06-23  1860.00  1930.00  1842.40  1861.10\n",
      "4 2023-06-24  1860.90  1871.14  1857.29  1860.91\n",
      "   Timestamp   Open   High    Low  Close\n",
      "0 2023-06-20  77.88  85.00  70.00  80.63\n",
      "1 2023-06-21  80.53  91.50  74.14  90.08\n",
      "2 2023-06-22  90.06  95.00  85.00  90.03\n",
      "3 2023-06-23  90.06  90.92  85.00  90.11\n",
      "4 2023-06-24  90.08  90.60  89.94  90.08\n",
      "   Timestamp   Open   High    Low  Close\n",
      "0 2023-06-20  12.73  12.73  12.73  12.73\n",
      "1 2023-06-21  13.15  13.18  13.15  13.15\n",
      "2 2023-06-22  13.91  14.04  13.28  14.00\n",
      "3 2023-06-23  14.00  14.00  14.00  14.00\n",
      "4 2023-06-24  14.00  14.00  14.00  14.00\n",
      "   Timestamp     Open     High      Low    Close\n",
      "0 2023-06-20  0.06232  0.06335  0.05700  0.06311\n",
      "1 2023-06-21  0.06311  0.06660  0.06050  0.06551\n",
      "2 2023-06-22  0.06551  0.07087  0.06000  0.06511\n",
      "3 2023-06-23  0.06311  0.07200  0.05900  0.06311\n",
      "4 2023-06-24  0.06843  0.06935  0.06186  0.06856\n",
      "   Timestamp   Open  High    Low  Close\n",
      "0 2023-06-20  16.43  16.8  15.48  16.80\n",
      "1 2023-06-21  16.80  17.7  16.60  17.70\n",
      "2 2023-06-22  17.70  18.4  16.60  17.64\n",
      "3 2023-06-23  16.63  17.7  16.60  17.70\n",
      "4 2023-06-24  17.70  17.7  16.61  17.70\n"
     ]
    }
   ],
   "source": [
    "import ccxt\n",
    "import testnet\n",
    "import pandas as pd\n",
    "import datetime\n",
    "import json\n",
    "\n",
    "pd.set_option('display.max_rows', None)  # Set max_rows to None to display all rows\n",
    "\n",
    "exchange = ccxt.binanceusdm({\n",
    "    'enableRateLimit': True,\n",
    "    'apiKey': testnet.api_key,\n",
    "    'secret': testnet.api_secret,\n",
    "    'defaultType': 'future'\n",
    "})\n",
    "\n",
    "exchange.set_sandbox_mode(True)\n",
    "\n",
    "def fetch_data(tf, limit):\n",
    "    with open('pairs.json', 'r') as file:\n",
    "        pairs = json.load(file)\n",
    "        \n",
    "        for pair in pairs:\n",
    "            coin = pair['Coin']\n",
    "        \n",
    "            frame = pd.DataFrame(exchange.fetchOHLCV(symbol=coin, timeframe=tf, limit=limit))\n",
    "            frame = frame.iloc[:, :5]\n",
    "            frame.columns = ['Timestamp', 'Open', 'High', 'Low', 'Close']\n",
    "            frame['Timestamp'] = pd.to_datetime(frame.Timestamp, unit='ms')\n",
    "            print(frame)\n",
    "\n",
    "fetch_data('1d', 5)\n"
   ]
  },
  {
   "cell_type": "code",
   "execution_count": null,
   "metadata": {},
   "outputs": [],
   "source": []
  }
 ],
 "metadata": {
  "kernelspec": {
   "display_name": "Python 3",
   "language": "python",
   "name": "python3"
  },
  "language_info": {
   "codemirror_mode": {
    "name": "ipython",
    "version": 3
   },
   "file_extension": ".py",
   "mimetype": "text/x-python",
   "name": "python",
   "nbconvert_exporter": "python",
   "pygments_lexer": "ipython3",
   "version": "3.10.11"
  },
  "orig_nbformat": 4
 },
 "nbformat": 4,
 "nbformat_minor": 2
}
