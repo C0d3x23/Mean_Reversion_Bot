{
 "cells": [
  {
   "cell_type": "code",
   "execution_count": 26,
   "metadata": {},
   "outputs": [
    {
     "name": "stdout",
     "output_type": "stream",
     "text": [
      "[{'info': {'symbol': 'ETHUSDT', 'positionAmt': '0.000', 'entryPrice': '0.0', 'markPrice': '1872.72583939', 'unRealizedProfit': '0.00000000', 'liquidationPrice': '0', 'leverage': '1', 'maxNotionalValue': '3.0E8', 'marginType': 'cross', 'isolatedMargin': '0.00000000', 'isAutoAddMargin': 'false', 'positionSide': 'BOTH', 'notional': '0', 'isolatedWallet': '0', 'updateTime': '1685646019773'}, 'id': None, 'symbol': 'ETH/USDT:USDT', 'contracts': 0.0, 'contractSize': 1.0, 'unrealizedPnl': 0.0, 'leverage': 1.0, 'liquidationPrice': None, 'collateral': 0.0, 'notional': 0.0, 'markPrice': 1872.72583939, 'entryPrice': 0.0, 'timestamp': 1685646019773, 'initialMargin': 0.0, 'initialMarginPercentage': 1.0, 'maintenanceMargin': 0.0, 'maintenanceMarginPercentage': 0.005, 'marginRatio': None, 'datetime': '2023-06-01T19:00:19.773Z', 'marginMode': 'cross', 'marginType': 'cross', 'side': None, 'hedged': False, 'percentage': None}, {'info': {'symbol': 'BTCUSDT', 'positionAmt': '0.000', 'entryPrice': '0.0', 'markPrice': '26943.36506968', 'unRealizedProfit': '0.00000000', 'liquidationPrice': '0', 'leverage': '50', 'maxNotionalValue': '3000000', 'marginType': 'cross', 'isolatedMargin': '0.00000000', 'isAutoAddMargin': 'false', 'positionSide': 'BOTH', 'notional': '0', 'isolatedWallet': '0', 'updateTime': '1612576020193'}, 'id': None, 'symbol': 'BTC/USDT:USDT', 'contracts': 0.0, 'contractSize': 1.0, 'unrealizedPnl': 0.0, 'leverage': 50.0, 'liquidationPrice': None, 'collateral': 0.0, 'notional': 0.0, 'markPrice': 26943.36506968, 'entryPrice': 0.0, 'timestamp': 1612576020193, 'initialMargin': 0.0, 'initialMarginPercentage': 0.02, 'maintenanceMargin': 0.0, 'maintenanceMarginPercentage': 0.004, 'marginRatio': None, 'datetime': '2021-02-06T01:47:00.193Z', 'marginMode': 'cross', 'marginType': 'cross', 'side': None, 'hedged': False, 'percentage': None}]\n"
     ]
    },
    {
     "data": {
      "text/plain": [
       "\"\\n{'publicAPI': True, 'privateAPI': True, 'CORS': None, 'spot': False, 'margin': False, 'swap': True, 'future': True, 'option': None, 'addMargin': True, 'cancelAllOrders': True, 'cancelOrder': True, 'cancelOrders': None, 'createDepositAddress': False, 'createLimitOrder': True, 'createMarketOrder': True, 'createOrder': True, 'createPostOnlyOrder': True, 'createReduceOnlyOrder': True, 'createStopOrder': True, 'createStopLimitOrder': True, 'createStopMarketOrder': True, 'editOrder': True, 'fetchAccounts': None, 'fetchBalance': True, 'fetchBidsAsks': True, 'fetchBorrowInterest': True, 'fetchBorrowRate': True, 'fetchBorrowRateHistory': True, 'fetchBorrowRatesPerSymbol': False, 'fetchBorrowRates': False, 'fetchCanceledOrders': 'emulated', 'fetchClosedOrder': False, 'fetchClosedOrders': 'emulated', 'fetchCurrencies': True, 'fetchDeposit': False, 'fetchDepositAddress': True, 'fetchDepositAddresses': False, 'fetchDepositAddressesByNetwork': False, 'fetchDeposits': True, 'fetchFundingFee': None, 'fetchFundingFees': None, 'fetchFundingHistory': True, 'fetchFundingRate': True, 'fetchFundingRateHistory': True, 'fetchFundingRates': True, 'fetchIndexOHLCV': True, 'fetchL2OrderBook': True, 'fetchLedger': True, 'fetchLedgerEntry': None, 'fetchLeverageTiers': True, 'fetchMarketLeverageTiers': 'emulated', 'fetchMarkets': True, 'fetchMarkOHLCV': True, 'fetchMyTrades': True, 'fetchOHLCV': True, 'fetchOpenOrder': False, 'fetchOpenOrders': True, 'fetchOrder': True, 'fetchOrderBook': True, 'fetchOrderBooks': False, 'fetchOrders': True, 'fetchOrderTrades': True, 'fetchPermissions': None, 'fetchPosition': True, 'fetchPositions': True, 'fetchPositionsRisk': True, 'fetchPremiumIndexOHLCV': False, 'fetchStatus': True, 'fetchTicker': True, 'fetchTickers': True, 'fetchTime': True, 'fetchTrades': True, 'fetchTradingFee': True, 'fetchTradingFees': True, 'fetchTradingLimits': None, 'fetchTransactions': False, 'fetchTransfers': True, 'fetchWithdrawal': False, 'fetchWithdrawals': True, 'reduceMargin': True, 'setLeverage': True, 'setMargin': False, 'setMarginMode': True, 'setPositionMode': True, 'signIn': False, 'transfer': True, 'withdraw': True, 'borrowMargin': True, 'fetchBorrowRateHistories': False, 'fetchDepositWithdrawFee': 'emulated', 'fetchDepositWithdrawFees': True, 'fetchL3OrderBook': None, 'fetchLastPrices': True, 'fetchLeverage': False, 'fetchOpenInterest': True, 'fetchOpenInterestHistory': True, 'fetchSettlementHistory': True, 'fetchTransactionFee': None, 'fetchTransactionFees': True, 'fetchWithdrawalWhitelist': False, 'repayMargin': True}\\n\""
      ]
     },
     "execution_count": 26,
     "metadata": {},
     "output_type": "execute_result"
    }
   ],
   "source": [
    "import ccxt\n",
    "import credentials\n",
    "\n",
    "exchange = ccxt.binanceusdm({\n",
    "    'enableRateLimit': True,\n",
    "    'apiKey': credentials.api_key,\n",
    "    'secret': credentials.api_secret\n",
    "})\n",
    "\n",
    "# help = exchange.has\n",
    "# print(help)\n",
    "symbol = ['BTC/USDT', 'ETH/USDT']\n",
    "# balance = exchange.fetchBalance()['info']['assets']\n",
    "# [print(balance)]\n",
    "\n",
    "# ticker = exchange.fetchTicker((symbol))\n",
    "# ask_price = ticker['close']\n",
    "# balance = exchange.fetchBalance()['total']['USDT']\n",
    "# buy_quantity = balance / ask_price\n",
    "# buy = exchange.createMarketOrder(symbol, side = 'BUY', amount = buy_quantity)  # Specify market type as futures\n",
    "# print(buy)\n",
    "\n",
    "order = exchange.fetchPositions(symbols=symbol)\n",
    "print(order)\n",
    "\n",
    "\"\"\"\n",
    "{'publicAPI': True, 'privateAPI': True, 'CORS': None, 'spot': False, 'margin': False, 'swap': True, 'future': True, 'option': None, 'addMargin': True, 'cancelAllOrders': True, 'cancelOrder': True, 'cancelOrders': None, 'createDepositAddress': False, 'createLimitOrder': True, 'createMarketOrder': True, 'createOrder': True, 'createPostOnlyOrder': True, 'createReduceOnlyOrder': True, 'createStopOrder': True, 'createStopLimitOrder': True, 'createStopMarketOrder': True, 'editOrder': True, 'fetchAccounts': None, 'fetchBalance': True, 'fetchBidsAsks': True, 'fetchBorrowInterest': True, 'fetchBorrowRate': True, 'fetchBorrowRateHistory': True, 'fetchBorrowRatesPerSymbol': False, 'fetchBorrowRates': False, 'fetchCanceledOrders': 'emulated', 'fetchClosedOrder': False, 'fetchClosedOrders': 'emulated', 'fetchCurrencies': True, 'fetchDeposit': False, 'fetchDepositAddress': True, 'fetchDepositAddresses': False, 'fetchDepositAddressesByNetwork': False, 'fetchDeposits': True, 'fetchFundingFee': None, 'fetchFundingFees': None, 'fetchFundingHistory': True, 'fetchFundingRate': True, 'fetchFundingRateHistory': True, 'fetchFundingRates': True, 'fetchIndexOHLCV': True, 'fetchL2OrderBook': True, 'fetchLedger': True, 'fetchLedgerEntry': None, 'fetchLeverageTiers': True, 'fetchMarketLeverageTiers': 'emulated', 'fetchMarkets': True, 'fetchMarkOHLCV': True, 'fetchMyTrades': True, 'fetchOHLCV': True, 'fetchOpenOrder': False, 'fetchOpenOrders': True, 'fetchOrder': True, 'fetchOrderBook': True, 'fetchOrderBooks': False, 'fetchOrders': True, 'fetchOrderTrades': True, 'fetchPermissions': None, 'fetchPosition': True, 'fetchPositions': True, 'fetchPositionsRisk': True, 'fetchPremiumIndexOHLCV': False, 'fetchStatus': True, 'fetchTicker': True, 'fetchTickers': True, 'fetchTime': True, 'fetchTrades': True, 'fetchTradingFee': True, 'fetchTradingFees': True, 'fetchTradingLimits': None, 'fetchTransactions': False, 'fetchTransfers': True, 'fetchWithdrawal': False, 'fetchWithdrawals': True, 'reduceMargin': True, 'setLeverage': True, 'setMargin': False, 'setMarginMode': True, 'setPositionMode': True, 'signIn': False, 'transfer': True, 'withdraw': True, 'borrowMargin': True, 'fetchBorrowRateHistories': False, 'fetchDepositWithdrawFee': 'emulated', 'fetchDepositWithdrawFees': True, 'fetchL3OrderBook': None, 'fetchLastPrices': True, 'fetchLeverage': False, 'fetchOpenInterest': True, 'fetchOpenInterestHistory': True, 'fetchSettlementHistory': True, 'fetchTransactionFee': None, 'fetchTransactionFees': True, 'fetchWithdrawalWhitelist': False, 'repayMargin': True}\n",
    "\"\"\""
   ]
  },
  {
   "cell_type": "code",
   "execution_count": null,
   "metadata": {},
   "outputs": [],
   "source": []
  }
 ],
 "metadata": {
  "kernelspec": {
   "display_name": "Python 3",
   "language": "python",
   "name": "python3"
  },
  "language_info": {
   "codemirror_mode": {
    "name": "ipython",
    "version": 3
   },
   "file_extension": ".py",
   "mimetype": "text/x-python",
   "name": "python",
   "nbconvert_exporter": "python",
   "pygments_lexer": "ipython3",
   "version": "3.10.11"
  },
  "orig_nbformat": 4
 },
 "nbformat": 4,
 "nbformat_minor": 2
}
